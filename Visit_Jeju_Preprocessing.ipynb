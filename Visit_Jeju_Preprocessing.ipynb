{
 "cells": [
  {
   "cell_type": "code",
   "execution_count": 1,
   "metadata": {},
   "outputs": [],
   "source": [
    "import os\n",
    "os.chdir(\"C:/Users/daess/Desktop/study/공모전/2022 빅콘테스트/Data\")"
   ]
  },
  {
   "cell_type": "code",
   "execution_count": 2,
   "metadata": {},
   "outputs": [],
   "source": [
    "import pandas as pd\n",
    "import collections"
   ]
  },
  {
   "cell_type": "markdown",
   "metadata": {},
   "source": [
    "JT_MT_ACCTO_TRRSRT_SCCNT_LIST\n",
    "- 제주 관광수요예측을 위한 비짓제주 조회 데이터\n"
   ]
  },
  {
   "cell_type": "code",
   "execution_count": 3,
   "metadata": {},
   "outputs": [],
   "source": [
    "visit_hits = pd.read_csv('Jeju_Data/JT_MT_ACCTO_TRRSRT_SCCNT_LIST.csv', encoding = 'ANSI')"
   ]
  },
  {
   "cell_type": "code",
   "execution_count": 4,
   "metadata": {},
   "outputs": [],
   "source": [
    "# 필요한 변수들만 추출\n",
    "col_list = ['CL_NM', 'AREA_NM', 'ADDR', 'ALL_TOTAL_CO']\n",
    "visit_hits = visit_hits[col_list]"
   ]
  },
  {
   "cell_type": "markdown",
   "metadata": {},
   "source": [
    "### **주소, 장소 변수**"
   ]
  },
  {
   "cell_type": "markdown",
   "metadata": {},
   "source": [
    "엑셀로 살펴보면 주소 형식이 맞지 않는 곳들이 있어 수정하겠습니다."
   ]
  },
  {
   "cell_type": "markdown",
   "metadata": {},
   "source": [
    "동문수산시장의 경우, 잘못된 주소(인천 강화군)으로 되어있으므로 실제 주소 입력\n",
    "- 도로명 주소가 없어, 지번 주소 입력"
   ]
  },
  {
   "cell_type": "code",
   "execution_count": 5,
   "metadata": {},
   "outputs": [],
   "source": [
    "visit_hits.loc[visit_hits.AREA_NM == '동문수산시장', 'ADDR'] = '제주 제주시 이도1동 1349-60'"
   ]
  },
  {
   "cell_type": "code",
   "execution_count": 6,
   "metadata": {},
   "outputs": [],
   "source": [
    "visit_hits.loc[visit_hits.AREA_NM == '쉬림프박스', 'ADDR'] = '제주 제주시 구좌읍 평대리 2033-7'"
   ]
  },
  {
   "cell_type": "markdown",
   "metadata": {},
   "source": [
    "일레인호텔의 경우, 도로명 주소가 영어로 되어있어 한국어로 바꿈"
   ]
  },
  {
   "cell_type": "code",
   "execution_count": 7,
   "metadata": {},
   "outputs": [],
   "source": [
    "visit_hits.loc[visit_hits.AREA_NM == '일레인호텔', 'ADDR'] = '제주 서귀포시 일주서로 660'"
   ]
  },
  {
   "cell_type": "markdown",
   "metadata": {},
   "source": [
    "ADDR 변수를 살펴보면 결측치가 24개 존재함\n",
    "- 주소가 결측치인 장소들을 살펴보면 일부 행에만 주소가 존재하므로, 결측치는 데이터에 있는 주소들로 채우겠습니다"
   ]
  },
  {
   "cell_type": "code",
   "execution_count": 8,
   "metadata": {},
   "outputs": [],
   "source": [
    "# 도로명 주소가 결측치인 관광지들의 이름 출력\n",
    "non_names = list(set(visit_hits[visit_hits['ADDR'].isnull()].AREA_NM))"
   ]
  },
  {
   "cell_type": "code",
   "execution_count": 9,
   "metadata": {},
   "outputs": [
    {
     "data": {
      "text/plain": [
       "['무릉자전거도로(환상자전거길 3구간)',\n",
       " '렛츠런팜 양귀비꽃',\n",
       " '비양도 연평리 야영지',\n",
       " '새별헤이요목장',\n",
       " '신흥리 동백 & 향나무길',\n",
       " '참굴비조형물',\n",
       " '서영아리오름 / 용와이오름',\n",
       " '월라봉 진지동굴 (안덕면)']"
      ]
     },
     "execution_count": 9,
     "metadata": {},
     "output_type": "execute_result"
    }
   ],
   "source": [
    "non_names"
   ]
  },
  {
   "cell_type": "code",
   "execution_count": 10,
   "metadata": {},
   "outputs": [],
   "source": [
    "for name in non_names:\n",
    "    addr = visit_hits.loc[(visit_hits.AREA_NM == name) & (visit_hits['ADDR'].notnull()), 'ADDR']\n",
    "    addr = addr.iloc[0] # 제일 위에 있는 주소 추출\n",
    "    visit_hits.loc[(visit_hits.AREA_NM == name) & (visit_hits['ADDR'].isnull()), 'ADDR'] = addr"
   ]
  },
  {
   "cell_type": "code",
   "execution_count": 11,
   "metadata": {},
   "outputs": [
    {
     "data": {
      "text/html": [
       "<div>\n",
       "<style scoped>\n",
       "    .dataframe tbody tr th:only-of-type {\n",
       "        vertical-align: middle;\n",
       "    }\n",
       "\n",
       "    .dataframe tbody tr th {\n",
       "        vertical-align: top;\n",
       "    }\n",
       "\n",
       "    .dataframe thead th {\n",
       "        text-align: right;\n",
       "    }\n",
       "</style>\n",
       "<table border=\"1\" class=\"dataframe\">\n",
       "  <thead>\n",
       "    <tr style=\"text-align: right;\">\n",
       "      <th></th>\n",
       "      <th>CL_NM</th>\n",
       "      <th>AREA_NM</th>\n",
       "      <th>ADDR</th>\n",
       "      <th>ALL_TOTAL_CO</th>\n",
       "    </tr>\n",
       "  </thead>\n",
       "  <tbody>\n",
       "  </tbody>\n",
       "</table>\n",
       "</div>"
      ],
      "text/plain": [
       "Empty DataFrame\n",
       "Columns: [CL_NM, AREA_NM, ADDR, ALL_TOTAL_CO]\n",
       "Index: []"
      ]
     },
     "execution_count": 11,
     "metadata": {},
     "output_type": "execute_result"
    }
   ],
   "source": [
    "# 결측치 처리가 잘 되었는지 확인\n",
    "visit_hits[visit_hits['ADDR'].isnull()]"
   ]
  },
  {
   "cell_type": "code",
   "execution_count": 12,
   "metadata": {},
   "outputs": [],
   "source": [
    "# 추자도의 경우, 하루에 배편이 2개뿐이므로 제외\n",
    "chuja = visit_hits[visit_hits['ADDR'].str.contains('추자')].index\n",
    "visit_hits.drop(chuja, inplace = True)"
   ]
  },
  {
   "cell_type": "code",
   "execution_count": 13,
   "metadata": {},
   "outputs": [
    {
     "data": {
      "text/plain": [
       "21644"
      ]
     },
     "execution_count": 13,
     "metadata": {},
     "output_type": "execute_result"
    }
   ],
   "source": [
    "len(visit_hits)"
   ]
  },
  {
   "cell_type": "markdown",
   "metadata": {},
   "source": [
    "이후에 발생할 인덱스 오류 방지를 위해 인덱스 초기화"
   ]
  },
  {
   "cell_type": "code",
   "execution_count": 14,
   "metadata": {},
   "outputs": [],
   "source": [
    "visit_hits.reset_index(drop = True, inplace = True)"
   ]
  },
  {
   "cell_type": "markdown",
   "metadata": {},
   "source": [
    "- 장소 이름과 주소 변수의 경우, 띄어쓰기가 제각각이여서 공백 모두 없앰\n",
    "- 주소 변수의 경우, 불필요한 정보 제거\n",
    "  - 제주특별자치도, 제주도, 제주(일부 값은 도명이 아닌 시명으로 시작해서 통일하기 위해)\n",
    "  - 괄호 이후 값들"
   ]
  },
  {
   "cell_type": "code",
   "execution_count": 15,
   "metadata": {},
   "outputs": [],
   "source": [
    "needless = ['제주특별자치도', '제주도', '제주']"
   ]
  },
  {
   "cell_type": "code",
   "execution_count": 16,
   "metadata": {},
   "outputs": [],
   "source": [
    "# 루트에 공백 삭제하기 전 장소명을 반영할 수 있도록 띄어쓰기 전의 장소명을 별도로 저장\n",
    "before_names = []\n",
    "\n",
    "# 장소, 주소 처리\n",
    "for i in range(len(visit_hits)):\n",
    "    # 장소 처리\n",
    "    visit_hits.loc[i, 'AREA_NM'] = visit_hits.loc[i, 'AREA_NM'].replace(' ', '')\n",
    "    \n",
    "    # 주소 처리\n",
    "    addr = visit_hits.loc[i, 'ADDR'].lstrip().split('(')\n",
    "    addr_0 = addr[0].split(' ') # 필요한 주소 리스트\n",
    "    if addr_0[0] in needless:\n",
    "        visit_hits.loc[i, 'ADDR'] = ''.join(addr_0[1:])\n",
    "    else:\n",
    "        visit_hits.loc[i, 'ADDR'] = ''.join(addr_0)\n"
   ]
  },
  {
   "cell_type": "markdown",
   "metadata": {},
   "source": [
    "데이터 확인 후, 오류 발견\n",
    "- 주소가 제주특별자치도인 곳은 주소가 결측치인 경우\n",
    "- 주소가 '제주 특별자치도', '제주툭별자치도', 로 시작하는 경우\n",
    "- 주소의 띄어쓰기 오류\n",
    "- 사이트 정보 오타로 인한 오류"
   ]
  },
  {
   "cell_type": "code",
   "execution_count": 17,
   "metadata": {},
   "outputs": [],
   "source": [
    "# 도령모루과 종남마을, 연미마을(오라리방화사건현장)의 경우, 지도 상에 없는 곳이므로 삭제\n",
    "del_addr1 = visit_hits[visit_hits['AREA_NM'].str.contains('도령모루|종남마을')].index\n",
    "visit_hits.drop(del_addr1, inplace = True)"
   ]
  },
  {
   "cell_type": "code",
   "execution_count": 18,
   "metadata": {},
   "outputs": [],
   "source": [
    "del_addr2 = visit_hits['AREA_NM'].isin(['연미마을(오라리방화사건현장)'])\n",
    "visit_hits = visit_hits[~del_addr2]"
   ]
  },
  {
   "cell_type": "code",
   "execution_count": 19,
   "metadata": {},
   "outputs": [],
   "source": [
    "# 제주 특별자치도로 시작한 주소 처리\n",
    "change_addr1 =  visit_hits.loc[visit_hits.AREA_NM == 'ZeZuZip', 'ADDR'].str.replace('특별자치도', '')\n",
    "visit_hits.loc[visit_hits.AREA_NM == 'ZeZuZip', 'ADDR'] = change_addr1"
   ]
  },
  {
   "cell_type": "code",
   "execution_count": 20,
   "metadata": {},
   "outputs": [],
   "source": [
    "# 제주툭별자치도로 시작한 주소 처리\n",
    "change_addr2 =  visit_hits.loc[visit_hits.AREA_NM == '중문스테이', 'ADDR'].str.replace('제주툭별자치도', '')\n",
    "visit_hits.loc[visit_hits.AREA_NM == '중문스테이', 'ADDR'] = change_addr2"
   ]
  },
  {
   "cell_type": "code",
   "execution_count": 21,
   "metadata": {},
   "outputs": [],
   "source": [
    "# 오타 처리 : 거쉬포시 -> 서귀포시\n",
    "error_addr = visit_hits.loc[visit_hits.AREA_NM == '성산오조리해안', 'ADDR'].str.replace('거쉬', '서귀')\n",
    "visit_hits.loc[visit_hits.AREA_NM == '성산오조리해안', 'ADDR'] = error_addr"
   ]
  },
  {
   "cell_type": "code",
   "execution_count": 22,
   "metadata": {},
   "outputs": [],
   "source": [
    "# 띄어쓰기 오류1\n",
    "visit_hits.loc[visit_hits.AREA_NM == '산양곶자왈', 'ADDR'] = '제주시한경면청수리956-6'"
   ]
  },
  {
   "cell_type": "code",
   "execution_count": 23,
   "metadata": {},
   "outputs": [],
   "source": [
    "# 띄어쓰기 오류2\n",
    "visit_hits.loc[visit_hits.AREA_NM == '천지연기정길', 'ADDR'] = '서귀포시서귀동961-33'"
   ]
  },
  {
   "cell_type": "code",
   "execution_count": 24,
   "metadata": {},
   "outputs": [],
   "source": [
    "# 띄어쓰기 오류3\n",
    "visit_hits.loc[visit_hits.AREA_NM == '하모씨워킹', 'ADDR'] = '서귀포시대정읍최남단해안로130'"
   ]
  },
  {
   "cell_type": "code",
   "execution_count": 25,
   "metadata": {},
   "outputs": [],
   "source": [
    "# 주소, 장소 목록\n",
    "ADDR_list = list(set(visit_hits.ADDR))\n",
    "AREA_list = list(set(visit_hits.AREA_NM))"
   ]
  },
  {
   "cell_type": "code",
   "execution_count": 26,
   "metadata": {},
   "outputs": [
    {
     "name": "stdout",
     "output_type": "stream",
     "text": [
      "3604 3973\n"
     ]
    }
   ],
   "source": [
    "# 총 주소와 장소 수\n",
    "print(len(ADDR_list), len(AREA_list))"
   ]
  },
  {
   "cell_type": "code",
   "execution_count": 27,
   "metadata": {},
   "outputs": [],
   "source": [
    "# 주소는 같으나 장소 이름이 다른 경우가 있음\n",
    "# 주소에 해당하는 장소이름들이 2개 이상인 경우, 마지막 장소 이름(최근)으로 통일\n",
    "for addr in ADDR_list:\n",
    "    name_list = list(set(visit_hits.loc[visit_hits.ADDR == addr, 'AREA_NM']))\n",
    "    if len(name_list) > 1:\n",
    "        visit_hits.loc[visit_hits.ADDR == addr, 'AREA_NM'] = name_list[-1]\n",
    "    "
   ]
  },
  {
   "cell_type": "code",
   "execution_count": 28,
   "metadata": {},
   "outputs": [
    {
     "data": {
      "text/plain": [
       "3040     낙천아홉굿마을의자공원\n",
       "3377     낙천아홉굿마을의자공원\n",
       "6560     낙천아홉굿마을의자공원\n",
       "6897     낙천아홉굿마을의자공원\n",
       "7171     낙천아홉굿마을의자공원\n",
       "7669     낙천아홉굿마을의자공원\n",
       "10609    낙천아홉굿마을의자공원\n",
       "10610    낙천아홉굿마을의자공원\n",
       "14302    낙천아홉굿마을의자공원\n",
       "14303    낙천아홉굿마을의자공원\n",
       "18035    낙천아홉굿마을의자공원\n",
       "18036    낙천아홉굿마을의자공원\n",
       "Name: AREA_NM, dtype: object"
      ]
     },
     "execution_count": 28,
     "metadata": {},
     "output_type": "execute_result"
    }
   ],
   "source": [
    "visit_hits.loc[visit_hits.ADDR == '제주시한경면낙수로97', 'AREA_NM']"
   ]
  },
  {
   "cell_type": "code",
   "execution_count": 29,
   "metadata": {},
   "outputs": [],
   "source": [
    "# 장소 이름은 같으나 주소가 다른 경우\n",
    "# 장소에 해당하는 주소가 2개 이상인 경우, 마지막 주소(최근)로 통일\n",
    "for area in AREA_list:\n",
    "    addr_list = list(set(visit_hits.loc[visit_hits.AREA_NM == area, 'ADDR']))\n",
    "    if len(addr_list) > 1:\n",
    "        visit_hits.loc[visit_hits.AREA_NM == area, 'ADDR'] = addr_list[-1]"
   ]
  },
  {
   "cell_type": "code",
   "execution_count": 30,
   "metadata": {},
   "outputs": [
    {
     "data": {
      "text/plain": [
       "3040     낙천아홉굿마을의자공원\n",
       "3377     낙천아홉굿마을의자공원\n",
       "6560     낙천아홉굿마을의자공원\n",
       "6897     낙천아홉굿마을의자공원\n",
       "7171     낙천아홉굿마을의자공원\n",
       "7669     낙천아홉굿마을의자공원\n",
       "10609    낙천아홉굿마을의자공원\n",
       "10610    낙천아홉굿마을의자공원\n",
       "14302    낙천아홉굿마을의자공원\n",
       "14303    낙천아홉굿마을의자공원\n",
       "18035    낙천아홉굿마을의자공원\n",
       "18036    낙천아홉굿마을의자공원\n",
       "Name: AREA_NM, dtype: object"
      ]
     },
     "execution_count": 30,
     "metadata": {},
     "output_type": "execute_result"
    }
   ],
   "source": [
    "visit_hits.loc[visit_hits.ADDR == '제주시한경면낙수로97', 'AREA_NM']"
   ]
  },
  {
   "cell_type": "code",
   "execution_count": 31,
   "metadata": {},
   "outputs": [
    {
     "name": "stdout",
     "output_type": "stream",
     "text": [
      "3561 3561\n"
     ]
    }
   ],
   "source": [
    "# 총 장소와 주소수를 확인하면 같아졌음을 알 수 있음\n",
    "ADDR_list = list(set(visit_hits.ADDR))\n",
    "AREA_list = list(set(visit_hits.AREA_NM))\n",
    "\n",
    "print(len(ADDR_list), len(AREA_list))"
   ]
  },
  {
   "cell_type": "code",
   "execution_count": 32,
   "metadata": {},
   "outputs": [
    {
     "name": "stdout",
     "output_type": "stream",
     "text": [
      "21626 21644\n"
     ]
    }
   ],
   "source": [
    "# 최종 정해진 장소명과 원본 장소명 합치기\n",
    "# before_names 생성 이후 삭제한 장소명 반영하기\n",
    "print(len(visit_hits), len(before_names))"
   ]
  },
  {
   "cell_type": "markdown",
   "metadata": {},
   "source": [
    "### **분류코드 변수**"
   ]
  },
  {
   "cell_type": "code",
   "execution_count": 42,
   "metadata": {},
   "outputs": [
    {
     "data": {
      "text/html": [
       "<div>\n",
       "<style scoped>\n",
       "    .dataframe tbody tr th:only-of-type {\n",
       "        vertical-align: middle;\n",
       "    }\n",
       "\n",
       "    .dataframe tbody tr th {\n",
       "        vertical-align: top;\n",
       "    }\n",
       "\n",
       "    .dataframe thead th {\n",
       "        text-align: right;\n",
       "    }\n",
       "</style>\n",
       "<table border=\"1\" class=\"dataframe\">\n",
       "  <thead>\n",
       "    <tr style=\"text-align: right;\">\n",
       "      <th></th>\n",
       "      <th></th>\n",
       "      <th>ALL_TOTAL_CO</th>\n",
       "    </tr>\n",
       "    <tr>\n",
       "      <th>CL_NM</th>\n",
       "      <th>AREA_NM</th>\n",
       "      <th></th>\n",
       "    </tr>\n",
       "  </thead>\n",
       "  <tbody>\n",
       "    <tr>\n",
       "      <th rowspan=\"5\" valign=\"top\">관광지</th>\n",
       "      <th>(주)제주해양레저투명카약</th>\n",
       "      <td>2033</td>\n",
       "    </tr>\n",
       "    <tr>\n",
       "      <th>1100고지(휴게소)</th>\n",
       "      <td>2679</td>\n",
       "    </tr>\n",
       "    <tr>\n",
       "      <th>1100고지습지</th>\n",
       "      <td>3860</td>\n",
       "    </tr>\n",
       "    <tr>\n",
       "      <th>4·3해원방사탑</th>\n",
       "      <td>280</td>\n",
       "    </tr>\n",
       "    <tr>\n",
       "      <th>5.16도로숲터널</th>\n",
       "      <td>2454</td>\n",
       "    </tr>\n",
       "    <tr>\n",
       "      <th>...</th>\n",
       "      <th>...</th>\n",
       "      <td>...</td>\n",
       "    </tr>\n",
       "    <tr>\n",
       "      <th rowspan=\"5\" valign=\"top\">음식점</th>\n",
       "      <th>흑돼지촌</th>\n",
       "      <td>143</td>\n",
       "    </tr>\n",
       "    <tr>\n",
       "      <th>흑돼지킹생구이전문점</th>\n",
       "      <td>99</td>\n",
       "    </tr>\n",
       "    <tr>\n",
       "      <th>흑소랑</th>\n",
       "      <td>240</td>\n",
       "    </tr>\n",
       "    <tr>\n",
       "      <th>흑염소마루</th>\n",
       "      <td>136</td>\n",
       "    </tr>\n",
       "    <tr>\n",
       "      <th>흑한우명품관</th>\n",
       "      <td>418</td>\n",
       "    </tr>\n",
       "  </tbody>\n",
       "</table>\n",
       "<p>3681 rows × 1 columns</p>\n",
       "</div>"
      ],
      "text/plain": [
       "                     ALL_TOTAL_CO\n",
       "CL_NM AREA_NM                    \n",
       "관광지   (주)제주해양레저투명카약          2033\n",
       "      1100고지(휴게소)            2679\n",
       "      1100고지습지               3860\n",
       "      4·3해원방사탑                280\n",
       "      5.16도로숲터널              2454\n",
       "...                           ...\n",
       "음식점   흑돼지촌                    143\n",
       "      흑돼지킹생구이전문점               99\n",
       "      흑소랑                     240\n",
       "      흑염소마루                   136\n",
       "      흑한우명품관                  418\n",
       "\n",
       "[3681 rows x 1 columns]"
      ]
     },
     "execution_count": 42,
     "metadata": {},
     "output_type": "execute_result"
    }
   ],
   "source": [
    "visit_hits.groupby(['CL_NM', 'AREA_NM']).sum()"
   ]
  },
  {
   "cell_type": "markdown",
   "metadata": {},
   "source": [
    "장소별 분류명이 여러개일 경우, 각 분류명의 개수를 계산하여 개수가 최대인 분류명 선택\n",
    "- 만약 개수가 같다면 가장 먼저 나온 분류명으로"
   ]
  },
  {
   "cell_type": "code",
   "execution_count": 43,
   "metadata": {},
   "outputs": [],
   "source": [
    "for area in AREA_list:\n",
    "    area_cl = list(visit_hits.loc[visit_hits.AREA_NM == area, 'CL_NM'])\n",
    "    cl_counts = collections.Counter(area_cl)\n",
    "    visit_hits.loc[visit_hits.AREA_NM == area, 'CL_NM'] = cl_counts.most_common()[0][0]"
   ]
  },
  {
   "cell_type": "code",
   "execution_count": 44,
   "metadata": {},
   "outputs": [
    {
     "data": {
      "text/html": [
       "<div>\n",
       "<style scoped>\n",
       "    .dataframe tbody tr th:only-of-type {\n",
       "        vertical-align: middle;\n",
       "    }\n",
       "\n",
       "    .dataframe tbody tr th {\n",
       "        vertical-align: top;\n",
       "    }\n",
       "\n",
       "    .dataframe thead th {\n",
       "        text-align: right;\n",
       "    }\n",
       "</style>\n",
       "<table border=\"1\" class=\"dataframe\">\n",
       "  <thead>\n",
       "    <tr style=\"text-align: right;\">\n",
       "      <th></th>\n",
       "      <th></th>\n",
       "      <th>ALL_TOTAL_CO</th>\n",
       "    </tr>\n",
       "    <tr>\n",
       "      <th>CL_NM</th>\n",
       "      <th>AREA_NM</th>\n",
       "      <th></th>\n",
       "    </tr>\n",
       "  </thead>\n",
       "  <tbody>\n",
       "    <tr>\n",
       "      <th rowspan=\"5\" valign=\"top\">관광지</th>\n",
       "      <th>(주)제주해양레저투명카약</th>\n",
       "      <td>2033</td>\n",
       "    </tr>\n",
       "    <tr>\n",
       "      <th>1100고지(휴게소)</th>\n",
       "      <td>2679</td>\n",
       "    </tr>\n",
       "    <tr>\n",
       "      <th>1100고지습지</th>\n",
       "      <td>3860</td>\n",
       "    </tr>\n",
       "    <tr>\n",
       "      <th>4·3해원방사탑</th>\n",
       "      <td>280</td>\n",
       "    </tr>\n",
       "    <tr>\n",
       "      <th>5.16도로숲터널</th>\n",
       "      <td>2454</td>\n",
       "    </tr>\n",
       "    <tr>\n",
       "      <th>...</th>\n",
       "      <th>...</th>\n",
       "      <td>...</td>\n",
       "    </tr>\n",
       "    <tr>\n",
       "      <th rowspan=\"5\" valign=\"top\">음식점</th>\n",
       "      <th>흑돼지촌</th>\n",
       "      <td>143</td>\n",
       "    </tr>\n",
       "    <tr>\n",
       "      <th>흑돼지킹생구이전문점</th>\n",
       "      <td>99</td>\n",
       "    </tr>\n",
       "    <tr>\n",
       "      <th>흑소랑</th>\n",
       "      <td>240</td>\n",
       "    </tr>\n",
       "    <tr>\n",
       "      <th>흑염소마루</th>\n",
       "      <td>136</td>\n",
       "    </tr>\n",
       "    <tr>\n",
       "      <th>흑한우명품관</th>\n",
       "      <td>418</td>\n",
       "    </tr>\n",
       "  </tbody>\n",
       "</table>\n",
       "<p>3561 rows × 1 columns</p>\n",
       "</div>"
      ],
      "text/plain": [
       "                     ALL_TOTAL_CO\n",
       "CL_NM AREA_NM                    \n",
       "관광지   (주)제주해양레저투명카약          2033\n",
       "      1100고지(휴게소)            2679\n",
       "      1100고지습지               3860\n",
       "      4·3해원방사탑                280\n",
       "      5.16도로숲터널              2454\n",
       "...                           ...\n",
       "음식점   흑돼지촌                    143\n",
       "      흑돼지킹생구이전문점               99\n",
       "      흑소랑                     240\n",
       "      흑염소마루                   136\n",
       "      흑한우명품관                  418\n",
       "\n",
       "[3561 rows x 1 columns]"
      ]
     },
     "execution_count": 44,
     "metadata": {},
     "output_type": "execute_result"
    }
   ],
   "source": [
    "visit_hits.groupby(['CL_NM', 'AREA_NM']).sum()"
   ]
  },
  {
   "cell_type": "markdown",
   "metadata": {},
   "source": [
    "### **장소별 2년간 총 조회수 계산**\n",
    "데이터가 준비되었으니 각 장소별로 2년간 총 조회수 계산하겠습니다\n",
    "- 21년 9 ~ 11월, 22년 3월 ~ 5월"
   ]
  },
  {
   "cell_type": "code",
   "execution_count": 45,
   "metadata": {},
   "outputs": [],
   "source": [
    "visit_series = visit_hits.groupby(['CL_NM', 'AREA_NM', 'ADDR']).sum()"
   ]
  },
  {
   "cell_type": "code",
   "execution_count": 46,
   "metadata": {},
   "outputs": [],
   "source": [
    "visit_df = pd.DataFrame(visit_series)"
   ]
  },
  {
   "cell_type": "code",
   "execution_count": 47,
   "metadata": {},
   "outputs": [],
   "source": [
    "visit_df.reset_index(level = (0, 1, 2), inplace = True)"
   ]
  },
  {
   "cell_type": "markdown",
   "metadata": {},
   "source": [
    "주소 중 행정시가 명시되지 않은 값이 있어 행정시 처리해주기"
   ]
  },
  {
   "cell_type": "code",
   "execution_count": 48,
   "metadata": {},
   "outputs": [
    {
     "data": {
      "text/html": [
       "<div>\n",
       "<style scoped>\n",
       "    .dataframe tbody tr th:only-of-type {\n",
       "        vertical-align: middle;\n",
       "    }\n",
       "\n",
       "    .dataframe tbody tr th {\n",
       "        vertical-align: top;\n",
       "    }\n",
       "\n",
       "    .dataframe thead th {\n",
       "        text-align: right;\n",
       "    }\n",
       "</style>\n",
       "<table border=\"1\" class=\"dataframe\">\n",
       "  <thead>\n",
       "    <tr style=\"text-align: right;\">\n",
       "      <th></th>\n",
       "      <th>CL_NM</th>\n",
       "      <th>AREA_NM</th>\n",
       "      <th>ADDR</th>\n",
       "      <th>ALL_TOTAL_CO</th>\n",
       "    </tr>\n",
       "  </thead>\n",
       "  <tbody>\n",
       "    <tr>\n",
       "      <th>539</th>\n",
       "      <td>관광지</td>\n",
       "      <td>아홉굿마을낙천리농어촌체험마을</td>\n",
       "      <td>한경면낙수로97</td>\n",
       "      <td>577</td>\n",
       "    </tr>\n",
       "    <tr>\n",
       "      <th>738</th>\n",
       "      <td>관광지</td>\n",
       "      <td>제주오름승마랜드</td>\n",
       "      <td>조천읍번영로1734-15</td>\n",
       "      <td>410</td>\n",
       "    </tr>\n",
       "    <tr>\n",
       "      <th>2533</th>\n",
       "      <td>음식점</td>\n",
       "      <td>바람이풀에그림그린날</td>\n",
       "      <td>안덕면감산서로59</td>\n",
       "      <td>134</td>\n",
       "    </tr>\n",
       "  </tbody>\n",
       "</table>\n",
       "</div>"
      ],
      "text/plain": [
       "     CL_NM          AREA_NM           ADDR  ALL_TOTAL_CO\n",
       "539    관광지  아홉굿마을낙천리농어촌체험마을       한경면낙수로97           577\n",
       "738    관광지         제주오름승마랜드  조천읍번영로1734-15           410\n",
       "2533   음식점       바람이풀에그림그린날      안덕면감산서로59           134"
      ]
     },
     "execution_count": 48,
     "metadata": {},
     "output_type": "execute_result"
    }
   ],
   "source": [
    "visit_df[~visit_df['ADDR'].str.contains('제주시|서귀포시', na = False)]"
   ]
  },
  {
   "cell_type": "code",
   "execution_count": 49,
   "metadata": {},
   "outputs": [],
   "source": [
    "visit_df.loc[visit_df.ADDR == '한경면낙수로97', 'ADDR'] = '제주시한경면낙수로97'\n",
    "visit_df.loc[visit_df.ADDR == '조천읍번영로1734-15', 'ADDR'] = '제주시조천읍번영로1734-15'\n",
    "visit_df.loc[visit_df.ADDR == '안덕면감산서로59', 'ADDR'] = '서귀포시안덕면감산서로59'"
   ]
  },
  {
   "cell_type": "code",
   "execution_count": 50,
   "metadata": {},
   "outputs": [
    {
     "data": {
      "text/html": [
       "<div>\n",
       "<style scoped>\n",
       "    .dataframe tbody tr th:only-of-type {\n",
       "        vertical-align: middle;\n",
       "    }\n",
       "\n",
       "    .dataframe tbody tr th {\n",
       "        vertical-align: top;\n",
       "    }\n",
       "\n",
       "    .dataframe thead th {\n",
       "        text-align: right;\n",
       "    }\n",
       "</style>\n",
       "<table border=\"1\" class=\"dataframe\">\n",
       "  <thead>\n",
       "    <tr style=\"text-align: right;\">\n",
       "      <th></th>\n",
       "      <th>CL_NM</th>\n",
       "      <th>AREA_NM</th>\n",
       "      <th>ADDR</th>\n",
       "      <th>ALL_TOTAL_CO</th>\n",
       "    </tr>\n",
       "  </thead>\n",
       "  <tbody>\n",
       "  </tbody>\n",
       "</table>\n",
       "</div>"
      ],
      "text/plain": [
       "Empty DataFrame\n",
       "Columns: [CL_NM, AREA_NM, ADDR, ALL_TOTAL_CO]\n",
       "Index: []"
      ]
     },
     "execution_count": 50,
     "metadata": {},
     "output_type": "execute_result"
    }
   ],
   "source": [
    "# 확인\n",
    "visit_df[~visit_df['ADDR'].str.contains('제주시|서귀포시', na = False)]"
   ]
  },
  {
   "cell_type": "code",
   "execution_count": 53,
   "metadata": {},
   "outputs": [
    {
     "data": {
      "text/html": [
       "<div>\n",
       "<style scoped>\n",
       "    .dataframe tbody tr th:only-of-type {\n",
       "        vertical-align: middle;\n",
       "    }\n",
       "\n",
       "    .dataframe tbody tr th {\n",
       "        vertical-align: top;\n",
       "    }\n",
       "\n",
       "    .dataframe thead th {\n",
       "        text-align: right;\n",
       "    }\n",
       "</style>\n",
       "<table border=\"1\" class=\"dataframe\">\n",
       "  <thead>\n",
       "    <tr style=\"text-align: right;\">\n",
       "      <th></th>\n",
       "      <th>CL_NM</th>\n",
       "      <th>AREA_NM</th>\n",
       "      <th>ADDR</th>\n",
       "      <th>ALL_TOTAL_CO</th>\n",
       "    </tr>\n",
       "  </thead>\n",
       "  <tbody>\n",
       "    <tr>\n",
       "      <th>539</th>\n",
       "      <td>관광지</td>\n",
       "      <td>아홉굿마을낙천리농어촌체험마을</td>\n",
       "      <td>제주시한경면낙수로97</td>\n",
       "      <td>577</td>\n",
       "    </tr>\n",
       "  </tbody>\n",
       "</table>\n",
       "</div>"
      ],
      "text/plain": [
       "    CL_NM          AREA_NM         ADDR  ALL_TOTAL_CO\n",
       "539   관광지  아홉굿마을낙천리농어촌체험마을  제주시한경면낙수로97           577"
      ]
     },
     "execution_count": 53,
     "metadata": {},
     "output_type": "execute_result"
    }
   ],
   "source": [
    "visit_df[visit_df.duplicated('ADDR')]"
   ]
  },
  {
   "cell_type": "code",
   "execution_count": 51,
   "metadata": {},
   "outputs": [],
   "source": [
    "# visit_df.to_csv('비짓제주 전처리.csv', encoding = 'utf-8-sig', index = False)"
   ]
  }
 ],
 "metadata": {
  "kernelspec": {
   "display_name": "Python 3.9.7 ('base')",
   "language": "python",
   "name": "python3"
  },
  "language_info": {
   "codemirror_mode": {
    "name": "ipython",
    "version": 3
   },
   "file_extension": ".py",
   "mimetype": "text/x-python",
   "name": "python",
   "nbconvert_exporter": "python",
   "pygments_lexer": "ipython3",
   "version": "3.9.7"
  },
  "orig_nbformat": 4,
  "vscode": {
   "interpreter": {
    "hash": "04cf2647ed92b5f6ccfaf096301e7df9e989a2a7fc98889956d4919e01a26e0e"
   }
  }
 },
 "nbformat": 4,
 "nbformat_minor": 2
}
